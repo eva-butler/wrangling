# %% [markdown]
# # Assignment: Data Wrangling and Exploratory Data Analysis
# ## Do Q1 and Q2, and one other question.
# `! git clone https://www.github.com/DS3001/assignment2`

# %% [markdown]
# **Q1.** Open the "tidy_data.pdf" document in the repo, which is a paper called Tidy Data by Hadley Wickham.
# 
#   1. Read the abstract. What is this paper about?
# 
# Wickham aims to take a more abstract approach to the data cleaning process, an area that likely doesn’t get the focus it deserves. While handling missing values is important, what should the data look like when you consider the cleaning process complete? He presents a set of criteria (where each row represents an observation, each column a variable, and each type of observational unit is a distinct table) and examines the implications of these principles.
# 
# 
# 
# 
#   2. Read the introduction. What is the "tidy data standard" intended to accomplish?
# 
#   Although data cleaning takes up a significant portion of data analysis, both in time and cognitive effort, it remains an underexplored skill. The "tidy data standard" aims to bring consistency to the data cleaning process. Its purpose is to streamline the task by providing a clear objective and a common set of steps, ensuring that everyone involved understands the end goal and the typical actions needed to achieve it.
# 
# 
#   3. Read the intro to section 2. What does this sentence mean: "Like families, tidy datasets are all alike but every messy dataset is messy in its own way." What does this sentence mean: "For a given dataset, it’s usually easy to figure out what are observations and what are variables, but it is surprisingly difficult to precisely define variables and observations in general."
# 
# Data cleaning, despite being a major part of data analysis, is often overlooked as a skill. The "tidy data standard" seeks to address this by providing a clear framework to simplify and standardize the process, ensuring everyone knows the goal and necessary steps.
# 
#   4. Read Section 2.2. How does Wickham define values, variables, and observations?
# 
# A dataset is a collection of numeric or categorical values, where each value is associated with both a variable (measuring the same attribute, like height or color) and an observation.
# 
# 
#   5. How is "Tidy Data" defined in section 2.3?
# In tidy data, columns represent variables, rows correspond to observations, and each table contains a specific type of observational unit; if data doesn't follow this structure, it's considered messy.
# 
# 
#   6. Read the intro to Section 3 and Section 3.1. What are the 5 most common problems with messy datasets? Why are the data in Table 4 messy? What is "melting" a dataset?
# 
# Column headers contain values (e.g., years) instead of variable names. For instance, unemployment data by county over time is structured with columns as years and rows as counties, where the column headers are numeric values like 2012, not a variable name like "Year."
# 
# Table 11 is messy because days are used as column headers, which are values rather than variables. In Table 12, these days are transformed into a single variable, date, but it's still not tidy because element contains variable names (tmax and tmin), which should be treated as separate variables.
# 
#   7. Why, specifically, is table 11 messy but table 12 tidy and "molten"?
# In Table 11, the days are listed as column headers, which are values rather than variables. Table 12 consolidates those days into a single variable, date, but it’s still not tidy because the element column contains variable names (tmax and tmin), which are actually different variables rather than values; Table 12(b) is tidy because all entries represent attributes instead of variable names.
# 
# 
# 
# 
# 
# 
# 
# 
#   8. Read Section 6. What is the "chicken-and-egg" problem with focusing on tidy data? What does Wickham hope happens in the future with further work on the subject of data wrangling?
# Wickham envisions a broader philosophy for data cleaning, beyond merely supporting specific tools. If the tidy framework is only about promoting certain tools, it becomes mere marketing. His goal is for the tidy concept to foster a more comprehensive and robust ecosystem of ideas and tools for data science, not just to train people to use ggplot2 effectively.
# 

# %% [markdown]
# **Q2.** This question provides some practice cleaning variables which have common problems.
# 1. Numeric variable: For `./data/airbnb_hw.csv`, clean the `Price` variable as well as you can, and explain the choices you make. How many missing values do you end up with? (Hint: What happens to the formatting when a price goes over 999 dollars, say from 675 to 1,112?)
# 2. Categorical variable: For the `./data/sharks.csv` data covered in the lecture, clean the "Type" variable as well as you can, and explain the choices you make.
# 3. Dummy variable: For the pretrial data covered in the lecture, clean the `WhetherDefendantWasReleasedPretrial` variable as well as you can, and, in particular, replace missing values with `np.nan`.
# 4. Missing values, not at random: For the pretrial data covered in the lecture, clean the `ImposedSentenceAllChargeInContactEvent` variable as well as you can, and explain the choices you make. (Hint: Look at the `SentenceTypeAllChargesAtConvictionInContactEvent` variable.)

# %%
import pandas as pd
import numpy as np
import seaborn as sns

df = pd.read_csv('./data/airbnb_hw.csv', low_memory=False)
print( df.shape, '\n')
df.head()

price = df['Price']
price.unique()

price = df['Price']
price = price.str.replace(',','') 
print( price.unique() , '\n')
price = pd.to_numeric(price,errors='coerce')
print( price.unique() , '\n')
print( 'Total missing: ', sum( price.isnull() ) )

# %%
df = pd.read_csv('./data/sharks.csv', low_memory=False)
df['Type'].value_counts()


type = df['Type'] # Create a temporary vector of values for the Type variable to play with

type = type.replace(['Sea Disaster', 'Boat','Boating','Boatomg'],'Watercraft') # All watercraft/boating values
type.value_counts()

type = type.replace(['Invalid', 'Questionable','Unconfirmed','Unverified','Under investigation'],np.nan) # All unclean values
type.value_counts()

df['Type'] = type # Replace the 'Type' variable with the cleaned version
del type # Destroy the temporary vector

df['Type'].value_counts()

df['Fatal (Y/N)'] = df['Fatal (Y/N)'].replace(['UNKNOWN', 'F','M','2017'],np.nan) # All unclean values
df['Fatal (Y/N)'] = df['Fatal (Y/N)'].replace('y','Y') # All unclean values
pd.crosstab(df['Type'],df['Fatal (Y/N)'],normalize='index')

# %%
df = pd.read_csv('./data/VirginiaPretrialData2017.csv', low_memory=False)

release = df['WhetherDefendantWasReleasedPretrial']
print(release.unique(),'\n')
print(release.value_counts(),'\n')
release = release.replace(9,np.nan) # In the codebook, the 9's are "unclear"
print(release.value_counts(),'\n')
sum(release.isnull()) # 31 missing values
df['WhetherDefendantWasReleasedPretrial'] = release # Replace data column with cleaned values
del release


length = df['ImposedSentenceAllChargeInContactEvent']
type = df['SentenceTypeAllChargesAtConvictionInContactEvent']

# print( length.unique()  , '\n') # Some values are ' ', denoting missing
length = pd.to_numeric(length,errors='coerce') # Coerce to numeric
length_NA = length.isnull() # Create a missing dummy
print( np.sum(length_NA),'\n') # 9k missing values of 23k, not so good

print( pd.crosstab(length_NA, type), '\n') # Category 4 is cases where the charges were dismissed

length = length.mask( type == 4, 0) # Replace length with 0 when type ==4
length = length.mask( type == 9, np.nan) # Replace length with np.nan when type == 9

length_NA = length.isnull() # Create a new missing dummy
print( pd.crosstab(length_NA, type), '\n')
print( np.sum(length_NA),'\n') # 274 missing, much better

df['ImposedSentenceAllChargeInContactEvent'] = length # Replace data with cleaned version
del length, type # Delete temporary length/type variables

# %% [markdown]
# **Q3.** This question provides some practice doing exploratory data analysis and visualization.
# 
# The "relevant" variables for this question are:
#   - `level` - Level of institution (4-year, 2-year)
#   - `aid_value` - The average amount of student aid going to undergraduate recipients
#   - `control` - Public, Private not-for-profit, Private for-profit
#   - `grad_100_value` - percentage of first-time, full-time, degree-seeking undergraduates who complete a degree or certificate program within 100 percent of expected time (bachelor's-seeking group at 4-year institutions)
# 
# 1. Load the `./data/college_completion.csv` data with Pandas.
# 2. What are are the dimensions of the data? How many observations are there? What are the variables included? Use `.head()` to examine the first few rows of data.
# 3. Cross tabulate `control` and `level`. Describe the patterns you see.
# 4. For `grad_100_value`, create a histogram, kernel density plot, boxplot, and statistical description.
# 5. For `grad_100_value`, create a grouped kernel density plot by `control` and by `level`. Describe what you see. Use `groupby` and `.describe` to make grouped calculations of statistical descriptions of `grad_100_value` by `level` and `control`. Which institutions appear to have the best graduation rates?
# 6. Create a new variable, `df['levelXcontrol']=df['level']+', '+df['control']` that interacts level and control. Make a grouped kernel density plot. Which institutions appear to have the best graduation rates?
# 7. Make a kernel density plot of `aid_value`. Notice that your graph is "bi-modal", having two little peaks that represent locally most common values. Now group your graph by `level` and `control`. What explains the bi-modal nature of the graph? Use `groupby` and `.describe` to make grouped calculations of statistical descriptions of `aid_value` by `level` and `control`.
# 8. Make a scatterplot of `grad_100_value` by `aid_value`. Describe what you see. Now make the same plot, grouping by `level` and then `control`. Describe what you see. For which kinds of institutions does aid seem to increase graduation rates?

# %% [markdown]
# Sexuality and gender studies become a huge debate in situations like thi sone.

# %%


# %% [markdown]
# **Q4.** This question uses the Airbnb data to practice making visualizations.
# 
#   1. Load the `./data/airbnb_hw.csv` data with Pandas. You should have cleaned the `Price` variable in question 2, and you'll need it later for this question.
#   2. What are are the dimensions of the data? How many observations are there? What are the variables included? Use `.head()` to examine the first few rows of data.
#   3. Cross tabulate `Room Type` and `Property Type`. What patterns do you see in what kinds of rentals are available? For which kinds of properties are private rooms more common than renting the entire property?
#   4. For `Price`, make a histogram, kernel density, box plot, and a statistical description of the variable. Are the data badly scaled? Are there many outliers? Use `log` to transform price into a new variable, `price_log`, and take these steps again.
#   5. Make a scatterplot of `price_log` and `Beds`. Describe what you see. Use `.groupby()` to compute a desciption of `Price` conditional on/grouped by the number of beds. Describe any patterns you see in the average price and standard deviation in prices.
#   6. Make a scatterplot of `price_log` and `Beds`, but color the graph by `Room Type` and `Property Type`. What patterns do you see? Compute a description of `Price` conditional on `Room Type` and `Property Type`. Which Room Type and Property Type have the highest prices on average? Which have the highest standard deviation? Does the mean or median appear to be a more reliable estimate of central tendency, and explain why?
#   7. We've looked a bit at this `price_log` and `Beds` scatterplot. Use seaborn to make a `jointplot` with `kind=hex`. Where are the data actually distributed? How does it affect the way you think about the plots in 5 and 6?

# %% [markdown]
# **Q6.** Open the `./data/CBO_data.pdf` file. This contains tax data for 2019, explaining where the money comes from that the U.S. Federal Government Spends in terms of taxation on individuals/families and payroll taxes (the amount that your employer pays in taxes on your wages).
# 
# For some context, the Federal government ultimately spent about $4.4 trillion in 2019, which was 21% of GDP (the total monetary value of all goods and services produced within the United States). Individual Income Taxes is the amount individuals pay on their wages to the Federal government, Corporate Income Taxes is the taxes individuals pay on capital gains from investment when they sell stock or other financial instruments, Payroll Taxes is the tax your employer pays on your wages, Excises and Customs Duties are taxes on goods or services like sin taxes on cigarettes or alcohol, and Estate and Gift Taxes are taxes paid on transfers of wealth to other people.
# 
# 1. Get the Millions of Families and Billions of Dollars data into a .csv file and load it with Pandas.
# 2. Create a bar plot of individual income taxes by income decile. Explain what the graph shows. Why are some values negative?
# 3. Create a bar plot of Total Federal Taxes by income decile. Which deciles are paying net positive amounts, and which are paying net negative amounts?
# 4. Create a stacked bar plot for which Total Federal Taxes is grouped by Individual Income Taxes, Payroll Taxes, Excises and Customs Duties, and Estate and Gift Taxes. How does the share of taxes paid vary across the adjusted income deciles? (Hint: Are these the kind of data you want to melt?)
# 5. Below the Total line for Millions of Families and Billions of Dollars, there are data for the richest of the richest families. Plot this alongside the bars for the deciles above the Total line. Describe your results.
# 6. Get the Percent Distribution data into a .csv file and load it with Pandas. Create a bar graph of Total Federal Taxes by income decile.
# 7. A tax system is progressive if higher-income and wealthier individuals pay more than lower-income and less wealthy individuals, and it is regressive if the opposite is true. Is the U.S. tax system progressive in terms of amount paid? In terms of the percentage of the overall total?
# 8. Do the rich pay enough in taxes? Defend your answer.


